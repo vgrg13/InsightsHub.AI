{
 "cells": [
  {
   "cell_type": "code",
   "execution_count": 1,
   "id": "7c13a62b",
   "metadata": {},
   "outputs": [
    {
     "name": "stdout",
     "output_type": "stream",
     "text": [
      "Requirement already satisfied: vaderSentiment in /Applications/anaconda3/lib/python3.9/site-packages (3.3.2)\n",
      "Requirement already satisfied: requests in /Applications/anaconda3/lib/python3.9/site-packages (from vaderSentiment) (2.26.0)\n",
      "Requirement already satisfied: certifi>=2017.4.17 in /Applications/anaconda3/lib/python3.9/site-packages (from requests->vaderSentiment) (2021.10.8)\n",
      "Requirement already satisfied: charset-normalizer~=2.0.0 in /Applications/anaconda3/lib/python3.9/site-packages (from requests->vaderSentiment) (2.0.4)\n",
      "Requirement already satisfied: idna<4,>=2.5 in /Applications/anaconda3/lib/python3.9/site-packages (from requests->vaderSentiment) (3.2)\n",
      "Requirement already satisfied: urllib3<1.27,>=1.21.1 in /Applications/anaconda3/lib/python3.9/site-packages (from requests->vaderSentiment) (1.26.7)\n",
      "Note: you may need to restart the kernel to use updated packages.\n"
     ]
    }
   ],
   "source": [
    "pip install vaderSentiment # dictionary and rule based sentiment analysis"
   ]
  },
  {
   "cell_type": "code",
   "execution_count": 2,
   "id": "322686ac",
   "metadata": {},
   "outputs": [],
   "source": [
    "import nltk # Natural Language toolkit for text processing"
   ]
  },
  {
   "cell_type": "code",
   "execution_count": 3,
   "id": "1632006a",
   "metadata": {},
   "outputs": [
    {
     "name": "stderr",
     "output_type": "stream",
     "text": [
      "[nltk_data] Downloading package vader_lexicon to\n",
      "[nltk_data]     /Users/vatsalgarg/nltk_data...\n",
      "[nltk_data]   Package vader_lexicon is already up-to-date!\n"
     ]
    },
    {
     "data": {
      "text/plain": [
       "True"
      ]
     },
     "execution_count": 3,
     "metadata": {},
     "output_type": "execute_result"
    }
   ],
   "source": [
    "nltk.download('vader_lexicon') #vadersentiment dictionary/lexicon"
   ]
  },
  {
   "cell_type": "code",
   "execution_count": 5,
   "id": "ff2b558d",
   "metadata": {},
   "outputs": [
    {
     "name": "stderr",
     "output_type": "stream",
     "text": [
      "[nltk_data] Downloading package stopwords to\n",
      "[nltk_data]     /Users/vatsalgarg/nltk_data...\n",
      "[nltk_data]   Package stopwords is already up-to-date!\n"
     ]
    },
    {
     "data": {
      "text/plain": [
       "True"
      ]
     },
     "execution_count": 5,
     "metadata": {},
     "output_type": "execute_result"
    }
   ],
   "source": [
    "nltk.download('stopwords') #commonly used words"
   ]
  },
  {
   "cell_type": "code",
   "execution_count": 6,
   "id": "7f4be5d2",
   "metadata": {},
   "outputs": [
    {
     "name": "stderr",
     "output_type": "stream",
     "text": [
      "[nltk_data] Downloading package wordnet to\n",
      "[nltk_data]     /Users/vatsalgarg/nltk_data...\n",
      "[nltk_data]   Package wordnet is already up-to-date!\n"
     ]
    },
    {
     "data": {
      "text/plain": [
       "True"
      ]
     },
     "execution_count": 6,
     "metadata": {},
     "output_type": "execute_result"
    }
   ],
   "source": [
    "nltk.download('wordnet') #database of parts of speech: nouns, adjectives, etc.  "
   ]
  },
  {
   "cell_type": "code",
   "execution_count": 7,
   "id": "6cbea792",
   "metadata": {},
   "outputs": [],
   "source": [
    "import pandas as pd #library for working with dataframe/tables in this case\n",
    "data = pd.read_csv(r'/Users/vatsalgarg/Downloads/InsightsHub/Burger_Company_Reviews.csv', encoding=\"unicode_escape\")"
   ]
  },
  {
   "cell_type": "code",
   "execution_count": 8,
   "id": "b6eac63b",
   "metadata": {},
   "outputs": [
    {
     "data": {
      "text/html": [
       "<div>\n",
       "<style scoped>\n",
       "    .dataframe tbody tr th:only-of-type {\n",
       "        vertical-align: middle;\n",
       "    }\n",
       "\n",
       "    .dataframe tbody tr th {\n",
       "        vertical-align: top;\n",
       "    }\n",
       "\n",
       "    .dataframe thead th {\n",
       "        text-align: right;\n",
       "    }\n",
       "</style>\n",
       "<table border=\"1\" class=\"dataframe\">\n",
       "  <thead>\n",
       "    <tr style=\"text-align: right;\">\n",
       "      <th></th>\n",
       "      <th>Sr No</th>\n",
       "      <th>Reviewer Name</th>\n",
       "      <th>Date</th>\n",
       "      <th>Review</th>\n",
       "    </tr>\n",
       "  </thead>\n",
       "  <tbody>\n",
       "    <tr>\n",
       "      <th>0</th>\n",
       "      <td>1</td>\n",
       "      <td>TheBarracksClub</td>\n",
       "      <td>21-Aug</td>\n",
       "      <td>Burger Co, in a word, rocks. I read some of th...</td>\n",
       "    </tr>\n",
       "    <tr>\n",
       "      <th>1</th>\n",
       "      <td>2</td>\n",
       "      <td>Honey and Hot Sauce</td>\n",
       "      <td>21-Jul</td>\n",
       "      <td>Spicy burger is amazing. Huge burgers cooked t...</td>\n",
       "    </tr>\n",
       "    <tr>\n",
       "      <th>2</th>\n",
       "      <td>3</td>\n",
       "      <td>Barbara Buczynski</td>\n",
       "      <td>21-Jul</td>\n",
       "      <td>I appreciate that they have a vegan alternative.</td>\n",
       "    </tr>\n",
       "    <tr>\n",
       "      <th>3</th>\n",
       "      <td>4</td>\n",
       "      <td>Karen N.</td>\n",
       "      <td>21-Jul</td>\n",
       "      <td>Don't be fooled by the lack of atmosphere. The...</td>\n",
       "    </tr>\n",
       "    <tr>\n",
       "      <th>4</th>\n",
       "      <td>5</td>\n",
       "      <td>Amandeep Kaur</td>\n",
       "      <td>21-Jul</td>\n",
       "      <td>I happened to stumble upon this place last yea...</td>\n",
       "    </tr>\n",
       "  </tbody>\n",
       "</table>\n",
       "</div>"
      ],
      "text/plain": [
       "   Sr No        Reviewer Name    Date  \\\n",
       "0      1      TheBarracksClub  21-Aug   \n",
       "1      2  Honey and Hot Sauce  21-Jul   \n",
       "2      3    Barbara Buczynski  21-Jul   \n",
       "3      4             Karen N.  21-Jul   \n",
       "4      5        Amandeep Kaur  21-Jul   \n",
       "\n",
       "                                              Review  \n",
       "0  Burger Co, in a word, rocks. I read some of th...  \n",
       "1  Spicy burger is amazing. Huge burgers cooked t...  \n",
       "2   I appreciate that they have a vegan alternative.  \n",
       "3  Don't be fooled by the lack of atmosphere. The...  \n",
       "4  I happened to stumble upon this place last yea...  "
      ]
     },
     "execution_count": 8,
     "metadata": {},
     "output_type": "execute_result"
    }
   ],
   "source": [
    "data.head()"
   ]
  },
  {
   "cell_type": "code",
   "execution_count": 9,
   "id": "7b3ab675",
   "metadata": {},
   "outputs": [],
   "source": [
    "import numpy as np #used for mathmatical operations\n",
    "import re # Regular expression library for text cleaning and information extraction based on patterns\n",
    "from nltk.corpus import stopwords\n",
    "from nltk.stem.porter import PorterStemmer\n",
    "from nltk.stem import WordNetLemmatizer\n",
    "from sklearn.feature_extraction.text import CountVectorizer # Vectorization of words\n",
    "from sklearn.model_selection import train_test_split # Split for training and testing the model\n",
    "# from sklearn.naive_bayes import MultinomialNB \n",
    "# import joblib"
   ]
  },
  {
   "cell_type": "markdown",
   "id": "79fbd62a",
   "metadata": {},
   "source": [
    "# Data Preprocessing"
   ]
  },
  {
   "cell_type": "code",
   "execution_count": 10,
   "id": "6ab00a92",
   "metadata": {},
   "outputs": [],
   "source": [
    "corpus = []\n",
    "df_list = list(data['Review'])\n",
    "\n",
    "for i in range(len(df_list)):\n",
    "    review = df_list[i]\n",
    "    review = re.sub('\\S*@\\S*\\s', \" \", review) # remove any emails\n",
    "    review = re.sub('http\\S*\\s', \" \", review) # remove any links\n",
    "    \n",
    "    #remove individual characters\n",
    "    review = ' '.join([i for i in review.split() if len(i) >= 2])\n",
    "\n",
    "    # Creating a corpus\n",
    "    corpus.append(review)\n"
   ]
  },
  {
   "cell_type": "code",
   "execution_count": 11,
   "id": "efaaa9e6",
   "metadata": {},
   "outputs": [
    {
     "data": {
      "text/plain": [
       "[\"Burger Co, in word, rocks. read some of the less than complimentary reviews and simply cannot understand how such and experience can be possible. I've frequented CBC many times and not once was it anything but spectacular. Dave, you are doing bang-up job running tough niche business during even tougher times. We love you. With or without onions. Be in to see you, soon.\",\n",
       " 'Spicy burger is amazing. Huge burgers cooked to order with POTATO BREAD. wish sauce came with the fried raviolis but now know to ask next time:)',\n",
       " 'appreciate that they have vegan alternative.',\n",
       " \"Don't be fooled by the lack of atmosphere. The interior is dirty and looks like college dorm. The signage done by middle school art student with stencil and the customer service doesn't exist. There are interior and exterior tables but service does not exist. This place is strictly take out. However .... The burgers were delicious and the onion rings were great. If you want nice place to eat skip this place. But if you want burger in bag to go this place will suffice.\",\n",
       " 'happened to stumble upon this place last year. remember it was the best burger had in Jersey. revisited the place and got cheesesteak and burger. Both were delicious and the services was great. All at reasonable price. Will be back.',\n",
       " \"Big, high quality burgers with all the fixin's and accompaniments...what's not to like?\"]"
      ]
     },
     "execution_count": 11,
     "metadata": {},
     "output_type": "execute_result"
    }
   ],
   "source": [
    "corpus[0:6]"
   ]
  },
  {
   "cell_type": "markdown",
   "id": "bd6e8739",
   "metadata": {},
   "source": [
    "# 1. Vader Model"
   ]
  },
  {
   "cell_type": "code",
   "execution_count": 12,
   "id": "3424471f",
   "metadata": {},
   "outputs": [],
   "source": [
    "from vaderSentiment.vaderSentiment import SentimentIntensityAnalyzer #library to compute the sentiment score\n",
    "analyzer = SentimentIntensityAnalyzer()\n",
    "\n",
    "def text_sentiment_vader(text):\n",
    "    vs = analyzer.polarity_scores(text)\n",
    "    return (vs.get(\"compound\"))\n",
    "\n",
    "# get score for each row\n",
    "predictions = data.Review.map(lambda x : text_sentiment_vader(x))"
   ]
  },
  {
   "cell_type": "code",
   "execution_count": 13,
   "id": "842a651f",
   "metadata": {},
   "outputs": [
    {
     "data": {
      "text/html": [
       "<div>\n",
       "<style scoped>\n",
       "    .dataframe tbody tr th:only-of-type {\n",
       "        vertical-align: middle;\n",
       "    }\n",
       "\n",
       "    .dataframe tbody tr th {\n",
       "        vertical-align: top;\n",
       "    }\n",
       "\n",
       "    .dataframe thead th {\n",
       "        text-align: right;\n",
       "    }\n",
       "</style>\n",
       "<table border=\"1\" class=\"dataframe\">\n",
       "  <thead>\n",
       "    <tr style=\"text-align: right;\">\n",
       "      <th></th>\n",
       "      <th>Review</th>\n",
       "    </tr>\n",
       "  </thead>\n",
       "  <tbody>\n",
       "    <tr>\n",
       "      <th>0</th>\n",
       "      <td>0.8364</td>\n",
       "    </tr>\n",
       "    <tr>\n",
       "      <th>1</th>\n",
       "      <td>0.5994</td>\n",
       "    </tr>\n",
       "    <tr>\n",
       "      <th>2</th>\n",
       "      <td>0.4019</td>\n",
       "    </tr>\n",
       "    <tr>\n",
       "      <th>3</th>\n",
       "      <td>0.9520</td>\n",
       "    </tr>\n",
       "    <tr>\n",
       "      <th>4</th>\n",
       "      <td>0.9186</td>\n",
       "    </tr>\n",
       "    <tr>\n",
       "      <th>...</th>\n",
       "      <td>...</td>\n",
       "    </tr>\n",
       "    <tr>\n",
       "      <th>134</th>\n",
       "      <td>0.9128</td>\n",
       "    </tr>\n",
       "    <tr>\n",
       "      <th>135</th>\n",
       "      <td>0.0000</td>\n",
       "    </tr>\n",
       "    <tr>\n",
       "      <th>136</th>\n",
       "      <td>0.9656</td>\n",
       "    </tr>\n",
       "    <tr>\n",
       "      <th>137</th>\n",
       "      <td>0.8775</td>\n",
       "    </tr>\n",
       "    <tr>\n",
       "      <th>138</th>\n",
       "      <td>0.8932</td>\n",
       "    </tr>\n",
       "  </tbody>\n",
       "</table>\n",
       "<p>139 rows × 1 columns</p>\n",
       "</div>"
      ],
      "text/plain": [
       "     Review\n",
       "0    0.8364\n",
       "1    0.5994\n",
       "2    0.4019\n",
       "3    0.9520\n",
       "4    0.9186\n",
       "..      ...\n",
       "134  0.9128\n",
       "135  0.0000\n",
       "136  0.9656\n",
       "137  0.8775\n",
       "138  0.8932\n",
       "\n",
       "[139 rows x 1 columns]"
      ]
     },
     "execution_count": 13,
     "metadata": {},
     "output_type": "execute_result"
    }
   ],
   "source": [
    "pred = pd.DataFrame(predictions)\n",
    "pred"
   ]
  },
  {
   "cell_type": "code",
   "execution_count": 14,
   "id": "f051fa3e",
   "metadata": {},
   "outputs": [],
   "source": [
    "pred['Feedback_text'] = data['Review']\n",
    "pred['Date'] = data['Date']\n",
    "# Created threshold of 0.05 to define positive, negative and neutral\n",
    "pred['Sentiment_Pred_vs'] = np.where(pred['Review'] >= 0.05, \"Positive\", np.where(pred['Review'] <= -0.05, \"Negative\", \"Neutral\"))"
   ]
  },
  {
   "cell_type": "code",
   "execution_count": 15,
   "id": "8f821e15",
   "metadata": {},
   "outputs": [
    {
     "data": {
      "text/html": [
       "<div>\n",
       "<style scoped>\n",
       "    .dataframe tbody tr th:only-of-type {\n",
       "        vertical-align: middle;\n",
       "    }\n",
       "\n",
       "    .dataframe tbody tr th {\n",
       "        vertical-align: top;\n",
       "    }\n",
       "\n",
       "    .dataframe thead th {\n",
       "        text-align: right;\n",
       "    }\n",
       "</style>\n",
       "<table border=\"1\" class=\"dataframe\">\n",
       "  <thead>\n",
       "    <tr style=\"text-align: right;\">\n",
       "      <th></th>\n",
       "      <th>Review</th>\n",
       "      <th>Feedback_text</th>\n",
       "      <th>Date</th>\n",
       "      <th>Sentiment_Pred_vs</th>\n",
       "    </tr>\n",
       "  </thead>\n",
       "  <tbody>\n",
       "    <tr>\n",
       "      <th>0</th>\n",
       "      <td>0.8364</td>\n",
       "      <td>Burger Co, in a word, rocks. I read some of th...</td>\n",
       "      <td>21-Aug</td>\n",
       "      <td>Positive</td>\n",
       "    </tr>\n",
       "    <tr>\n",
       "      <th>1</th>\n",
       "      <td>0.5994</td>\n",
       "      <td>Spicy burger is amazing. Huge burgers cooked t...</td>\n",
       "      <td>21-Jul</td>\n",
       "      <td>Positive</td>\n",
       "    </tr>\n",
       "    <tr>\n",
       "      <th>2</th>\n",
       "      <td>0.4019</td>\n",
       "      <td>I appreciate that they have a vegan alternative.</td>\n",
       "      <td>21-Jul</td>\n",
       "      <td>Positive</td>\n",
       "    </tr>\n",
       "    <tr>\n",
       "      <th>3</th>\n",
       "      <td>0.9520</td>\n",
       "      <td>Don't be fooled by the lack of atmosphere. The...</td>\n",
       "      <td>21-Jul</td>\n",
       "      <td>Positive</td>\n",
       "    </tr>\n",
       "    <tr>\n",
       "      <th>4</th>\n",
       "      <td>0.9186</td>\n",
       "      <td>I happened to stumble upon this place last yea...</td>\n",
       "      <td>21-Jul</td>\n",
       "      <td>Positive</td>\n",
       "    </tr>\n",
       "  </tbody>\n",
       "</table>\n",
       "</div>"
      ],
      "text/plain": [
       "   Review                                      Feedback_text    Date  \\\n",
       "0  0.8364  Burger Co, in a word, rocks. I read some of th...  21-Aug   \n",
       "1  0.5994  Spicy burger is amazing. Huge burgers cooked t...  21-Jul   \n",
       "2  0.4019   I appreciate that they have a vegan alternative.  21-Jul   \n",
       "3  0.9520  Don't be fooled by the lack of atmosphere. The...  21-Jul   \n",
       "4  0.9186  I happened to stumble upon this place last yea...  21-Jul   \n",
       "\n",
       "  Sentiment_Pred_vs  \n",
       "0          Positive  \n",
       "1          Positive  \n",
       "2          Positive  \n",
       "3          Positive  \n",
       "4          Positive  "
      ]
     },
     "execution_count": 15,
     "metadata": {},
     "output_type": "execute_result"
    }
   ],
   "source": [
    "pred.head()"
   ]
  },
  {
   "cell_type": "code",
   "execution_count": 20,
   "id": "933cbe49",
   "metadata": {},
   "outputs": [
    {
     "data": {
      "text/plain": [
       "count          139\n",
       "unique           3\n",
       "top       Positive\n",
       "freq           120\n",
       "Name: Sentiment_Pred_vs, dtype: object"
      ]
     },
     "execution_count": 20,
     "metadata": {},
     "output_type": "execute_result"
    }
   ],
   "source": [
    "pred['Sentiment_Pred_vs'].describe()"
   ]
  },
  {
   "cell_type": "code",
   "execution_count": 19,
   "id": "422a498f",
   "metadata": {},
   "outputs": [
    {
     "data": {
      "text/plain": [
       "Positive    120\n",
       "Negative     15\n",
       "Neutral       4\n",
       "Name: Sentiment_Pred_vs, dtype: int64"
      ]
     },
     "execution_count": 19,
     "metadata": {},
     "output_type": "execute_result"
    }
   ],
   "source": [
    "pred['Sentiment_Pred_vs'].value_counts()"
   ]
  },
  {
   "cell_type": "code",
   "execution_count": 21,
   "id": "4ad22953",
   "metadata": {},
   "outputs": [],
   "source": [
    "# output the sentiment analysis to csv\n",
    "pred.to_csv('/Users/vatsalgarg/Downloads/InsightsHub/result_vader.csv')"
   ]
  },
  {
   "cell_type": "markdown",
   "id": "5e853463",
   "metadata": {},
   "source": [
    "# 2. TextBlob Model"
   ]
  },
  {
   "cell_type": "code",
   "execution_count": 22,
   "id": "b0ad13c1",
   "metadata": {},
   "outputs": [
    {
     "name": "stdout",
     "output_type": "stream",
     "text": [
      "Requirement already satisfied: textblob in /Applications/anaconda3/lib/python3.9/site-packages (0.17.1)\n",
      "Requirement already satisfied: nltk>=3.1 in /Applications/anaconda3/lib/python3.9/site-packages (from textblob) (3.6.5)\n",
      "Requirement already satisfied: click in /Applications/anaconda3/lib/python3.9/site-packages (from nltk>=3.1->textblob) (8.0.3)\n",
      "Requirement already satisfied: joblib in /Applications/anaconda3/lib/python3.9/site-packages (from nltk>=3.1->textblob) (1.1.0)\n",
      "Requirement already satisfied: regex>=2021.8.3 in /Applications/anaconda3/lib/python3.9/site-packages (from nltk>=3.1->textblob) (2021.8.3)\n",
      "Requirement already satisfied: tqdm in /Applications/anaconda3/lib/python3.9/site-packages (from nltk>=3.1->textblob) (4.62.3)\n",
      "Note: you may need to restart the kernel to use updated packages.\n"
     ]
    }
   ],
   "source": [
    "pip install textblob #similar to Vader, a powerful dictionary based approach and uses rules on positive and negative words"
   ]
  },
  {
   "cell_type": "code",
   "execution_count": 23,
   "id": "ada2a2b0",
   "metadata": {},
   "outputs": [],
   "source": [
    "import textblob\n",
    "from textblob import TextBlob\n",
    "\n",
    "def text_sentiment(text):\n",
    "    testimonial = TextBlob(text)\n",
    "    return (testimonial.sentiment.polarity)\n",
    "\n",
    "predictions_tb = data.Review.map(lambda x :  text_sentiment(x))"
   ]
  },
  {
   "cell_type": "code",
   "execution_count": 24,
   "id": "105358fc",
   "metadata": {},
   "outputs": [
    {
     "data": {
      "text/html": [
       "<div>\n",
       "<style scoped>\n",
       "    .dataframe tbody tr th:only-of-type {\n",
       "        vertical-align: middle;\n",
       "    }\n",
       "\n",
       "    .dataframe tbody tr th {\n",
       "        vertical-align: top;\n",
       "    }\n",
       "\n",
       "    .dataframe thead th {\n",
       "        text-align: right;\n",
       "    }\n",
       "</style>\n",
       "<table border=\"1\" class=\"dataframe\">\n",
       "  <thead>\n",
       "    <tr style=\"text-align: right;\">\n",
       "      <th></th>\n",
       "      <th>Review</th>\n",
       "    </tr>\n",
       "  </thead>\n",
       "  <tbody>\n",
       "    <tr>\n",
       "      <th>0</th>\n",
       "      <td>0.174444</td>\n",
       "    </tr>\n",
       "    <tr>\n",
       "      <th>1</th>\n",
       "      <td>0.375000</td>\n",
       "    </tr>\n",
       "    <tr>\n",
       "      <th>2</th>\n",
       "      <td>0.000000</td>\n",
       "    </tr>\n",
       "    <tr>\n",
       "      <th>3</th>\n",
       "      <td>0.360000</td>\n",
       "    </tr>\n",
       "    <tr>\n",
       "      <th>4</th>\n",
       "      <td>0.421429</td>\n",
       "    </tr>\n",
       "    <tr>\n",
       "      <th>...</th>\n",
       "      <td>...</td>\n",
       "    </tr>\n",
       "    <tr>\n",
       "      <th>134</th>\n",
       "      <td>0.081250</td>\n",
       "    </tr>\n",
       "    <tr>\n",
       "      <th>135</th>\n",
       "      <td>0.258333</td>\n",
       "    </tr>\n",
       "    <tr>\n",
       "      <th>136</th>\n",
       "      <td>0.211563</td>\n",
       "    </tr>\n",
       "    <tr>\n",
       "      <th>137</th>\n",
       "      <td>0.387500</td>\n",
       "    </tr>\n",
       "    <tr>\n",
       "      <th>138</th>\n",
       "      <td>0.180357</td>\n",
       "    </tr>\n",
       "  </tbody>\n",
       "</table>\n",
       "<p>139 rows × 1 columns</p>\n",
       "</div>"
      ],
      "text/plain": [
       "       Review\n",
       "0    0.174444\n",
       "1    0.375000\n",
       "2    0.000000\n",
       "3    0.360000\n",
       "4    0.421429\n",
       "..        ...\n",
       "134  0.081250\n",
       "135  0.258333\n",
       "136  0.211563\n",
       "137  0.387500\n",
       "138  0.180357\n",
       "\n",
       "[139 rows x 1 columns]"
      ]
     },
     "execution_count": 24,
     "metadata": {},
     "output_type": "execute_result"
    }
   ],
   "source": [
    "pred_tb = pd.DataFrame(predictions_tb)\n",
    "pred_tb"
   ]
  },
  {
   "cell_type": "code",
   "execution_count": 25,
   "id": "7f48256b",
   "metadata": {},
   "outputs": [],
   "source": [
    "pred_tb['Feedback_text'] = data['Review']\n",
    "pred_tb['Date'] = data['Date']\n",
    "# experimenting with the threshold and analyzed the results, ended up keeping zero\n",
    "pred_tb['Sentiment_Pred_tb'] = np.where(pred_tb['Review'] > 0, \"Positive\", np.where(pred_tb['Review'] < 0, \"Negative\", \"Neutral\"))"
   ]
  },
  {
   "cell_type": "code",
   "execution_count": 26,
   "id": "d97ba499",
   "metadata": {},
   "outputs": [
    {
     "data": {
      "text/plain": [
       "count          139\n",
       "unique           3\n",
       "top       Positive\n",
       "freq           119\n",
       "Name: Sentiment_Pred_tb, dtype: object"
      ]
     },
     "execution_count": 26,
     "metadata": {},
     "output_type": "execute_result"
    }
   ],
   "source": [
    "pred_tb['Sentiment_Pred_tb'].describe()"
   ]
  },
  {
   "cell_type": "code",
   "execution_count": 27,
   "id": "900fcaa6",
   "metadata": {},
   "outputs": [
    {
     "data": {
      "text/plain": [
       "Positive    119\n",
       "Negative     17\n",
       "Neutral       3\n",
       "Name: Sentiment_Pred_tb, dtype: int64"
      ]
     },
     "execution_count": 27,
     "metadata": {},
     "output_type": "execute_result"
    }
   ],
   "source": [
    "pred_tb['Sentiment_Pred_tb'].value_counts()"
   ]
  },
  {
   "cell_type": "code",
   "execution_count": 28,
   "id": "a7ef1857",
   "metadata": {},
   "outputs": [],
   "source": [
    "pred_tb.to_csv('/Users/vatsalgarg/Downloads/InsightsHub/result_textblob.csv')"
   ]
  },
  {
   "cell_type": "code",
   "execution_count": null,
   "id": "f25ce63a",
   "metadata": {},
   "outputs": [],
   "source": []
  }
 ],
 "metadata": {
  "kernelspec": {
   "display_name": "Python 3 (ipykernel)",
   "language": "python",
   "name": "python3"
  },
  "language_info": {
   "codemirror_mode": {
    "name": "ipython",
    "version": 3
   },
   "file_extension": ".py",
   "mimetype": "text/x-python",
   "name": "python",
   "nbconvert_exporter": "python",
   "pygments_lexer": "ipython3",
   "version": "3.9.7"
  }
 },
 "nbformat": 4,
 "nbformat_minor": 5
}
